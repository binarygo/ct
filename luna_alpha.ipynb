{
 "cells": [
  {
   "cell_type": "code",
   "execution_count": 17,
   "metadata": {
    "collapsed": false
   },
   "outputs": [],
   "source": [
    "%matplotlib inline\n",
    "\n",
    "import os\n",
    "import sys\n",
    "import time\n",
    "\n",
    "import SimpleITK as sitk\n",
    "import numpy as np\n",
    "import csv\n",
    "from glob import glob\n",
    "import pandas as pd\n",
    "from skimage import measure\n",
    "from skimage import transform\n",
    "from matplotlib import pyplot as plt\n",
    "\n",
    "import util\n",
    "reload(util);\n",
    "\n",
    "import luna_preprocess\n",
    "reload(luna_preprocess);"
   ]
  },
  {
   "cell_type": "code",
   "execution_count": null,
   "metadata": {
    "collapsed": false
   },
   "outputs": [],
   "source": [
    "file_list = luna_preprocess.get_file_list()\n",
    "file_dict = luna_preprocess.get_file_dict(file_list)\n",
    "annt_df = luna_preprocess.get_annt_df(file_dict)"
   ]
  },
  {
   "cell_type": "code",
   "execution_count": null,
   "metadata": {
    "collapsed": true
   },
   "outputs": [],
   "source": [
    "f = '../LUNA16/subset1/1.3.6.1.4.1.14519.5.2.1.6279.6001.208737629504245244513001631764.mhd'"
   ]
  },
  {
   "cell_type": "code",
   "execution_count": null,
   "metadata": {
    "collapsed": false
   },
   "outputs": [],
   "source": [
    "annt_df[annt_df.file==f]"
   ]
  },
  {
   "cell_type": "code",
   "execution_count": null,
   "metadata": {
    "collapsed": true
   },
   "outputs": [],
   "source": [
    "itk = sitk.ReadImage(f)"
   ]
  },
  {
   "cell_type": "code",
   "execution_count": null,
   "metadata": {
    "collapsed": true
   },
   "outputs": [],
   "source": [
    "origin = np.asarray(itk.GetOrigin(), dtype=np.float)\n",
    "spacing = np.asarray(itk.GetSpacing(), dtype=np.float) \n",
    "image = sitk.GetArrayFromImage(itk)"
   ]
  },
  {
   "cell_type": "code",
   "execution_count": null,
   "metadata": {
    "collapsed": false
   },
   "outputs": [],
   "source": [
    "new_spacing = np.asarray([1] * 3, dtype=np.float)"
   ]
  },
  {
   "cell_type": "code",
   "execution_count": null,
   "metadata": {
    "collapsed": true
   },
   "outputs": [],
   "source": [
    "resampled_image = util.resample(image, spacing, new_spacing)"
   ]
  },
  {
   "cell_type": "code",
   "execution_count": null,
   "metadata": {
    "collapsed": true
   },
   "outputs": [],
   "source": [
    "lung_mask = util.segment_lung_mask_v2(resampled_image, 1)"
   ]
  },
  {
   "cell_type": "code",
   "execution_count": null,
   "metadata": {
    "collapsed": true
   },
   "outputs": [],
   "source": [
    "hero = lung_mask.astype(np.uint8)\n",
    "bg = hero[0, 0, 0]\n",
    "        # x, y, z                                                                                  \n",
    "v_margin = np.round(2.0 / new_spacing).astype(np.int)\n",
    "slices = util.find_bbox(hero, v_margin[::-1], bg)\n",
    "offsets = [s.start for s in slices]\n",
    "origin = origin + new_spacing * offsets[::-1]\n",
    "shrink_image = resampled_image[slices]\n",
    "lung_mask = lung_mask[slices]"
   ]
  },
  {
   "cell_type": "code",
   "execution_count": null,
   "metadata": {
    "collapsed": true
   },
   "outputs": [],
   "source": [
    "spacing = new_spacing"
   ]
  },
  {
   "cell_type": "code",
   "execution_count": null,
   "metadata": {
    "collapsed": true
   },
   "outputs": [],
   "source": [
    "nodules = []\n",
    "df = annt_df[annt_df.file==f]\n",
    "for _, cur_row in df.iterrows():\n",
    "    nod_x = cur_row[\"coordX\"]\n",
    "    nod_y = cur_row[\"coordY\"]\n",
    "    nod_z = cur_row[\"coordZ\"]\n",
    "    diam = cur_row[\"diameter_mm\"]\n",
    "    nodules.append((nod_x, nod_y, nod_z, diam))"
   ]
  },
  {
   "cell_type": "code",
   "execution_count": null,
   "metadata": {
    "collapsed": false
   },
   "outputs": [],
   "source": [
    "nodules"
   ]
  },
  {
   "cell_type": "code",
   "execution_count": null,
   "metadata": {
    "collapsed": false
   },
   "outputs": [],
   "source": [
    "spacing"
   ]
  },
  {
   "cell_type": "code",
   "execution_count": null,
   "metadata": {
    "collapsed": true
   },
   "outputs": [],
   "source": [
    "nodule = nodules[1]"
   ]
  },
  {
   "cell_type": "code",
   "execution_count": null,
   "metadata": {
    "collapsed": false
   },
   "outputs": [],
   "source": [
    "nodule"
   ]
  },
  {
   "cell_type": "code",
   "execution_count": null,
   "metadata": {
    "collapsed": false
   },
   "outputs": [],
   "source": [
    "from skimage import morphology\n",
    "nod_x, nod_y, nod_z, diam = nodule\n",
    "center = np.asarray([nod_x, nod_y, nod_z], dtype=np.float)\n",
    "radius = diam / 2.0\n",
    "v_center = np.round((center - origin) / 1).astype(np.int)\n",
    "v_radius = int(round(radius / 1))\n",
    "ball = morphology.ball(v_radius)\n",
    "ans = np.zeros(resampled_image.shape)\n",
    "v_o = np.maximum(0, v_center - v_radius)  # x, y, z  "
   ]
  },
  {
   "cell_type": "code",
   "execution_count": null,
   "metadata": {
    "collapsed": false
   },
   "outputs": [],
   "source": [
    "[\n",
    "    (v_o[2], v_o[2]+ball.shape[0]),\n",
    "    (v_o[1], v_o[1]+ball.shape[1]),\n",
    "    (v_o[0], v_o[0]+ball.shape[2])\n",
    "]"
   ]
  },
  {
   "cell_type": "code",
   "execution_count": null,
   "metadata": {
    "collapsed": false
   },
   "outputs": [],
   "source": [
    "v_center"
   ]
  },
  {
   "cell_type": "code",
   "execution_count": null,
   "metadata": {
    "collapsed": false
   },
   "outputs": [],
   "source": [
    "hero = resampled_image[132]"
   ]
  },
  {
   "cell_type": "code",
   "execution_count": null,
   "metadata": {
    "collapsed": true
   },
   "outputs": [],
   "source": [
    "lm = util.segment_lung_mask_v1(resampled_image, 1)"
   ]
  },
  {
   "cell_type": "code",
   "execution_count": null,
   "metadata": {
    "collapsed": false
   },
   "outputs": [],
   "source": [
    "binary = np.stack([\n",
    "        util._segment_lung_mask_v2_impl(im, 1)\n",
    "        for im in resampled_image\n",
    "    ])"
   ]
  },
  {
   "cell_type": "code",
   "execution_count": null,
   "metadata": {
    "collapsed": true
   },
   "outputs": [],
   "source": [
    "labels = measure.label(binary)\n",
    "vals, counts = np.unique(labels, return_counts=True)\n",
    "counts = counts[vals != 0]\n",
    "vals = vals[vals != 0]\n",
    "counts_and_vals = sorted(zip(counts, vals), key=lambda x: -x[0])\n"
   ]
  },
  {
   "cell_type": "code",
   "execution_count": null,
   "metadata": {
    "collapsed": false
   },
   "outputs": [],
   "source": [
    "max_label_counts, max_label = counts_and_vals[0]\n",
    "max_label_counts, max_label"
   ]
  },
  {
   "cell_type": "code",
   "execution_count": null,
   "metadata": {
    "collapsed": false
   },
   "outputs": [],
   "source": [
    "max2_label_counts, max2_label = counts_and_vals[1]\n",
    "max2_label_counts, max2_label"
   ]
  },
  {
   "cell_type": "code",
   "execution_count": null,
   "metadata": {
    "collapsed": false
   },
   "outputs": [],
   "source": [
    "436648 / 1933217.0"
   ]
  },
  {
   "cell_type": "code",
   "execution_count": null,
   "metadata": {
    "collapsed": true
   },
   "outputs": [],
   "source": [
    "binary[(labels!=max_label)&(labels!=max2_label)] = 0"
   ]
  },
  {
   "cell_type": "code",
   "execution_count": null,
   "metadata": {
    "collapsed": true
   },
   "outputs": [],
   "source": [
    "lmm = util._dilate_mask(binary, 1)"
   ]
  },
  {
   "cell_type": "code",
   "execution_count": null,
   "metadata": {
    "collapsed": false
   },
   "outputs": [],
   "source": [
    "plt.imshow(lmm[132])"
   ]
  },
  {
   "cell_type": "code",
   "execution_count": null,
   "metadata": {
    "collapsed": false
   },
   "outputs": [],
   "source": [
    "plt.imshow(image[132], cmap='gray')"
   ]
  },
  {
   "cell_type": "code",
   "execution_count": null,
   "metadata": {
    "collapsed": false
   },
   "outputs": [],
   "source": [
    "ans.shape"
   ]
  },
  {
   "cell_type": "code",
   "execution_count": null,
   "metadata": {
    "collapsed": false
   },
   "outputs": [],
   "source": [
    "ans[v_o[2]:v_o[2]+ball.shape[0],\n",
    "    v_o[1]:v_o[1]+ball.shape[1],\n",
    "    v_o[0]:v_o[0]+ball.shape[2]] = ball"
   ]
  },
  {
   "cell_type": "code",
   "execution_count": null,
   "metadata": {
    "collapsed": false
   },
   "outputs": [],
   "source": [
    "v_o"
   ]
  },
  {
   "cell_type": "code",
   "execution_count": null,
   "metadata": {
    "collapsed": true
   },
   "outputs": [],
   "source": []
  },
  {
   "cell_type": "code",
   "execution_count": null,
   "metadata": {
    "collapsed": true
   },
   "outputs": [],
   "source": []
  },
  {
   "cell_type": "code",
   "execution_count": null,
   "metadata": {
    "collapsed": false
   },
   "outputs": [],
   "source": [
    "plt.hist(annt_df['diameter_mm'], bins=100);\n",
    "np.percentile(annt_df['diameter_mm'], [0, 50, 100])"
   ]
  },
  {
   "cell_type": "code",
   "execution_count": null,
   "metadata": {
    "collapsed": false
   },
   "outputs": [],
   "source": [
    "def sample_file_ids(min_num_nodules=1):\n",
    "    t = annt_df.groupby('file').count()\n",
    "    t = set([luna_preprocess.get_file_id(x)\n",
    "             for x in list(t[t.seriesuid>min_num_nodules].index)])\n",
    "    t1 = [x[0:-11] for x in os.listdir('../LUNA16/output')]\n",
    "    return list(set(t1).intersection(t))"
   ]
  },
  {
   "cell_type": "code",
   "execution_count": null,
   "metadata": {
    "collapsed": false
   },
   "outputs": [],
   "source": [
    "file_ids = sample_file_ids(1)"
   ]
  },
  {
   "cell_type": "code",
   "execution_count": null,
   "metadata": {
    "collapsed": true
   },
   "outputs": [],
   "source": [
    "file_id = '1.3.6.1.4.1.14519.5.2.1.6279.6001.208737629504245244513001631764'"
   ]
  },
  {
   "cell_type": "code",
   "execution_count": null,
   "metadata": {
    "collapsed": false
   },
   "outputs": [],
   "source": [
    "#image = luna_preprocess.Image()\n",
    "#image.init(file_dict[file_id], annt_df,\n",
    "#           iso_spacing=1.0, shrink_margin=2.0)"
   ]
  },
  {
   "cell_type": "code",
   "execution_count": null,
   "metadata": {
    "collapsed": false
   },
   "outputs": [],
   "source": [
    "image = luna_preprocess.Image()\n",
    "image.load(file_id)"
   ]
  },
  {
   "cell_type": "code",
   "execution_count": null,
   "metadata": {
    "collapsed": false
   },
   "outputs": [],
   "source": [
    "nodules = image.get_v_nodules()\n",
    "print '# of nodules = %d'%len(nodules)"
   ]
  },
  {
   "cell_type": "code",
   "execution_count": null,
   "metadata": {
    "collapsed": true
   },
   "outputs": [],
   "source": [
    "nodule_idx = 2\n",
    "nodule = nodules[nodule_idx]"
   ]
  },
  {
   "cell_type": "code",
   "execution_count": null,
   "metadata": {
    "collapsed": false
   },
   "outputs": [],
   "source": [
    "x, y, z, d = nodule\n",
    "plt.figure()\n",
    "plt.imshow(image.masked_lung[z], cmap='gray')\n",
    "circle = plt.Circle((x, y), d/2, color='r', fill=False)\n",
    "plt.gca().add_artist(circle)\n",
    "plt.figure()\n",
    "plt.imshow(image.masked_nodule(nodule_idx)[z], cmap='gray')"
   ]
  },
  {
   "cell_type": "code",
   "execution_count": null,
   "metadata": {
    "collapsed": true
   },
   "outputs": [],
   "source": [
    "sigmas = util.get_dot_enhance_filter_sigmas(d0=3, d1=33, N=5)"
   ]
  },
  {
   "cell_type": "code",
   "execution_count": null,
   "metadata": {
    "collapsed": false
   },
   "outputs": [],
   "source": [
    "enhance_2d = util.enhance_filter_2d(image.masked_lung[z], sigmas, 'dot')"
   ]
  },
  {
   "cell_type": "code",
   "execution_count": null,
   "metadata": {
    "collapsed": false
   },
   "outputs": [],
   "source": [
    "plt.imshow(enhance_2d>20, cmap='gray')\n",
    "circle = plt.Circle((x, y), d, color='r', fill=False)\n",
    "plt.gca().add_artist(circle)"
   ]
  },
  {
   "cell_type": "code",
   "execution_count": null,
   "metadata": {
    "collapsed": true
   },
   "outputs": [],
   "source": []
  },
  {
   "cell_type": "code",
   "execution_count": null,
   "metadata": {
    "collapsed": false
   },
   "outputs": [],
   "source": [
    "enhance_3d = util.enhance_filter_3d(image.masked_lung, sigmas, 'dot')"
   ]
  },
  {
   "cell_type": "code",
   "execution_count": null,
   "metadata": {
    "collapsed": false
   },
   "outputs": [],
   "source": [
    "plt.imshow(enhance_3d[z]>20, cmap='gray')\n",
    "circle = plt.Circle((x, y), d/2, color='r', fill=False)\n",
    "plt.gca().add_artist(circle)\n",
    "plt.figure()\n",
    "plt.imshow(image._nodule_masks[nodule_idx][z], cmap='gray')"
   ]
  },
  {
   "cell_type": "code",
   "execution_count": null,
   "metadata": {
    "collapsed": true
   },
   "outputs": [],
   "source": [
    "labels = measure.label(enhance_3d>20)"
   ]
  },
  {
   "cell_type": "code",
   "execution_count": null,
   "metadata": {
    "collapsed": true
   },
   "outputs": [],
   "source": [
    "vals, counts = np.unique(labels, return_counts=True)"
   ]
  },
  {
   "cell_type": "code",
   "execution_count": null,
   "metadata": {
    "collapsed": false
   },
   "outputs": [],
   "source": [
    "vol_min = np.pi * 4.0 / 3 * (d0/2.0)**3 * 0.9\n",
    "vol_max = np.pi * 4.0 / 3 * (d1/2.0)**3 * 1.1"
   ]
  },
  {
   "cell_type": "code",
   "execution_count": null,
   "metadata": {
    "collapsed": false
   },
   "outputs": [],
   "source": [
    "idx = ((counts>=vol_min)&(counts<=vol_max))\n",
    "vals = vals[idx]\n",
    "counts = counts[idx]"
   ]
  },
  {
   "cell_type": "code",
   "execution_count": null,
   "metadata": {
    "collapsed": false
   },
   "outputs": [],
   "source": [
    "print '# of clusters = %d'%len(vals)"
   ]
  },
  {
   "cell_type": "code",
   "execution_count": null,
   "metadata": {
    "collapsed": false
   },
   "outputs": [],
   "source": [
    "label = vals[0]\n",
    "slices = util.find_bbox((labels==label), margin=[0,0,0], bg=0)\n",
    "slices"
   ]
  },
  {
   "cell_type": "code",
   "execution_count": null,
   "metadata": {
    "collapsed": false
   },
   "outputs": [],
   "source": [
    "ref_mask = image._nodule_masks[nodule_idx]\n",
    "\n",
    "cand_labels = vals\n",
    "overlaps = []\n",
    "for cand_label in cand_labels:\n",
    "    mask = (labels==cand_label)\n",
    "    i = np.sum(np.logical_and(mask, ref_mask))\n",
    "    u = np.sum(mask) + np.sum(ref_mask) - i\n",
    "    overlaps.append(i / float(np.sum(mask)))"
   ]
  },
  {
   "cell_type": "code",
   "execution_count": null,
   "metadata": {
    "collapsed": false
   },
   "outputs": [],
   "source": [
    "np.argmax(overlaps), max(overlaps)"
   ]
  },
  {
   "cell_type": "code",
   "execution_count": null,
   "metadata": {
    "collapsed": false
   },
   "outputs": [],
   "source": [
    "mask = (labels==cand_labels[np.argmax(overlaps)])\n",
    "[\n",
    "    np.sum(np.logical_and(mask, ref_mask)),\n",
    "    np.sum(mask),\n",
    "    np.sum(ref_mask)\n",
    "]"
   ]
  },
  {
   "cell_type": "code",
   "execution_count": null,
   "metadata": {
    "collapsed": true
   },
   "outputs": [],
   "source": [
    "mask = (labels==cand_labels[np.argmax(overlaps)])"
   ]
  },
  {
   "cell_type": "code",
   "execution_count": null,
   "metadata": {
    "collapsed": false
   },
   "outputs": [],
   "source": [
    "plt.imshow(image.masked_lung[z], cmap='gray')\n",
    "plt.figure()\n",
    "plt.imshow(mask[z], cmap='gray')"
   ]
  },
  {
   "cell_type": "code",
   "execution_count": null,
   "metadata": {
    "collapsed": true
   },
   "outputs": [],
   "source": []
  },
  {
   "cell_type": "code",
   "execution_count": null,
   "metadata": {
    "collapsed": false
   },
   "outputs": [],
   "source": [
    "root_dir = '../LUNA16/output_enhance'\n",
    "enhance_3d_file_list = [\n",
    "    os.path.join(root_dir, f)\n",
    "    for f in os.listdir(root_dir)\n",
    "]"
   ]
  },
  {
   "cell_type": "code",
   "execution_count": null,
   "metadata": {
    "collapsed": false
   },
   "outputs": [],
   "source": [
    "def eval_enhance_3d_quality(enhance_3d_file, d0, d1, th):\n",
    "    image = luna_preprocess.Image()\n",
    "    image.load(luna_preprocess.get_file_id(enhance_3d_file))\n",
    "    enhance_3d = np.load(enhance_3d_file).items()[0][1]\n",
    "    \n",
    "    sigmas = util.get_dot_enhance_filter_sigmas(d0=d0, d1=d1, N=5)\n",
    "    vol_min = np.pi * 4.0 / 3 * (d0/2.0)**3 * 0.9\n",
    "    vol_max = np.pi * 4.0 / 3 * (d1/2.0)**3 * 1.1\n",
    "    \n",
    "    labels = measure.label(enhance_3d>th)\n",
    "    vals, counts = np.unique(labels, return_counts=True)\n",
    "    cand_labels = vals[((counts>=vol_min)&(counts<=vol_max))]\n",
    "    \n",
    "    nodules = image.get_v_nodules()\n",
    "    num_nodules = len(nodules)\n",
    "    \n",
    "    def eval_nodule(nod_idx):\n",
    "        nod_v_x, nod_v_y, nod_v_z, nod_v_d = nodules[nod_idx]\n",
    "        ref_mask = image._nodule_masks[nod_idx]\n",
    "        overlaps = []\n",
    "        for cand_label in cand_labels:\n",
    "            mask = (labels==cand_label)\n",
    "            i = np.sum(np.logical_and(mask, ref_mask))\n",
    "            u = np.sum(mask) + np.sum(ref_mask) - i\n",
    "            overlaps.append(i / float(np.sum(mask)))\n",
    "        return max(overlaps)\n",
    "    \n",
    "    return ([\n",
    "        eval_nodule(nod_idx)\n",
    "        for nod_idx in range(num_nodules)\n",
    "    ], len(cand_labels))"
   ]
  },
  {
   "cell_type": "code",
   "execution_count": null,
   "metadata": {
    "collapsed": false
   },
   "outputs": [],
   "source": [
    "ans = []\n",
    "for enhance_3d_file in enhance_3d_file_list:\n",
    "    ans.append(eval_enhance_3d_quality(enhance_3d_file, d0=3, d1=33, th=3))"
   ]
  },
  {
   "cell_type": "code",
   "execution_count": null,
   "metadata": {
    "collapsed": false
   },
   "outputs": [],
   "source": [
    "import pickle\n",
    "with open('ans.dat', 'w') as f:\n",
    "    pickle.dump(ans, f)"
   ]
  },
  {
   "cell_type": "code",
   "execution_count": null,
   "metadata": {
    "collapsed": false
   },
   "outputs": [],
   "source": [
    "x = [b for a, c in ans for b in a]"
   ]
  },
  {
   "cell_type": "code",
   "execution_count": null,
   "metadata": {
    "collapsed": false
   },
   "outputs": [],
   "source": [
    "len(x) * 1.0 /sum([c for a, c in ans])"
   ]
  },
  {
   "cell_type": "code",
   "execution_count": null,
   "metadata": {
    "collapsed": false
   },
   "outputs": [],
   "source": [
    "sum(np.array(x)>0.2) / float(len(x))"
   ]
  },
  {
   "cell_type": "code",
   "execution_count": null,
   "metadata": {
    "collapsed": false
   },
   "outputs": [],
   "source": [
    "ans"
   ]
  },
  {
   "cell_type": "code",
   "execution_count": null,
   "metadata": {
    "collapsed": false
   },
   "outputs": [],
   "source": [
    "plt.hist(x, bins=80);"
   ]
  },
  {
   "cell_type": "code",
   "execution_count": null,
   "metadata": {
    "collapsed": true
   },
   "outputs": [],
   "source": [
    "d0=3\n",
    "d1=33\n",
    "th=20\n",
    "enhance_3d_file = '../LUNA16/output_enhance/1.3.6.1.4.1.14519.5.2.1.6279.6001.106379658920626694402549886949_dot.npz'\n",
    "image = luna_preprocess.Image()\n",
    "image.load(luna_preprocess.get_file_id(enhance_3d_file))\n",
    "enhance_3d = np.load(enhance_3d_file).items()[0][1]\n",
    "labels = measure.label(enhance_3d>th)"
   ]
  },
  {
   "cell_type": "code",
   "execution_count": null,
   "metadata": {
    "collapsed": false
   },
   "outputs": [],
   "source": [
    "sigmas = util.get_dot_enhance_filter_sigmas(d0=d0, d1=d1, N=5)\n",
    "vol_min = np.pi * 4.0 / 3 * (d0/2.0)**3 * 0.9\n",
    "vol_max = np.pi * 4.0 / 3 * (d1/2.0)**3 * 1.1\n",
    "    \n",
    "nod_idx = 0\n",
    "nod_v_x, nod_v_y, nod_v_z, nod_v_d = image.get_v_nodules()[nod_idx]"
   ]
  },
  {
   "cell_type": "code",
   "execution_count": null,
   "metadata": {
    "collapsed": true
   },
   "outputs": [],
   "source": []
  },
  {
   "cell_type": "code",
   "execution_count": null,
   "metadata": {
    "collapsed": false
   },
   "outputs": [],
   "source": [
    "slice_z = nod_v_z\n",
    "plt.figure()\n",
    "plt.imshow(image._image[slice_z], cmap='gray')\n",
    "plt.figure()\n",
    "plt.imshow(image.masked_lung[slice_z], cmap='gray')\n",
    "circle = plt.Circle((nod_v_x, nod_v_y), nod_v_d/2, color='r', fill=False)\n",
    "#plt.gca().add_artist(circle)\n",
    "plt.figure()\n",
    "plt.imshow(image.masked_nodule(nod_idx)[slice_z], cmap='gray')"
   ]
  },
  {
   "cell_type": "code",
   "execution_count": null,
   "metadata": {
    "collapsed": false
   },
   "outputs": [],
   "source": [
    "enhance_2d = util.enhance_filter_2d(image.masked_lung[nod_v_z], sigmas, 'dot')"
   ]
  },
  {
   "cell_type": "code",
   "execution_count": null,
   "metadata": {
    "collapsed": false
   },
   "outputs": [],
   "source": [
    "plt.imshow(enhance_2d>20, cmap='gray')\n",
    "circle = plt.Circle((nod_v_x, nod_v_y), nod_v_d/2, color='r', fill=False)\n",
    "plt.gca().add_artist(circle)"
   ]
  },
  {
   "cell_type": "code",
   "execution_count": null,
   "metadata": {
    "collapsed": false
   },
   "outputs": [],
   "source": [
    "plt.imshow(enhance_3d[nod_v_z]>3, cmap='gray')\n",
    "circle = plt.Circle((nod_v_x, nod_v_y), nod_v_d/2, color='r', fill=False)\n",
    "plt.gca().add_artist(circle)"
   ]
  },
  {
   "cell_type": "code",
   "execution_count": null,
   "metadata": {
    "collapsed": true
   },
   "outputs": [],
   "source": [
    "from scipy.ndimage.filters import gaussian_filter"
   ]
  },
  {
   "cell_type": "code",
   "execution_count": null,
   "metadata": {
    "collapsed": true
   },
   "outputs": [],
   "source": [
    "def _enhance_filter_3d_impl(image, sigma, kind):\n",
    "    bg = image[0, 0, 0]\n",
    "    fxx = gaussian_filter(image, sigma, order=(0, 0, 2) , mode='constant', cval=bg)\n",
    "    fyy = gaussian_filter(image, sigma, order=(0, 2, 0) , mode='constant', cval=bg)\n",
    "    fzz = gaussian_filter(image, sigma, order=(2, 0, 0) , mode='constant', cval=bg)\n",
    "    fxy = gaussian_filter(image, sigma, order=(0, 1, 1) , mode='constant', cval=bg)\n",
    "    fyz = gaussian_filter(image, sigma, order=(1, 1, 0) , mode='constant', cval=bg)\n",
    "    fzx = gaussian_filter(image, sigma, order=(1, 0, 1) , mode='constant', cval=bg)\n",
    "    a = np.zeros(list(image.shape) + [3, 3])\n",
    "    a[:,:,:,0,0] = fxx\n",
    "    a[:,:,:,1,1] = fyy\n",
    "    a[:,:,:,2,2] = fzz\n",
    "    a[:,:,:,0,1] = a[:,:,:,1,0] = fxy\n",
    "    a[:,:,:,1,2] = a[:,:,:,2,1] = fyz\n",
    "    a[:,:,:,0,2] = a[:,:,:,2,0] = fzx\n",
    "    w, _ = np.linalg.eig(a)\n",
    "    w = util.apply_argsort(w, np.argsort(np.abs(w)))\n",
    "    lambda1 = w[:,:,:,2]\n",
    "    lambda2 = w[:,:,:,1]\n",
    "    lambda3 = w[:,:,:,0]\n",
    "    return lambda1, lambda2, lambda3"
   ]
  },
  {
   "cell_type": "code",
   "execution_count": null,
   "metadata": {
    "collapsed": false
   },
   "outputs": [],
   "source": [
    "sigmas"
   ]
  },
  {
   "cell_type": "code",
   "execution_count": null,
   "metadata": {
    "collapsed": false
   },
   "outputs": [],
   "source": [
    "image._nodules[nod_idx][3]/4.0"
   ]
  },
  {
   "cell_type": "code",
   "execution_count": null,
   "metadata": {
    "collapsed": false
   },
   "outputs": [],
   "source": [
    "ans = _enhance_filter_3d_impl(image.masked_lung, 1.8571076617500002, 'dot')"
   ]
  },
  {
   "cell_type": "code",
   "execution_count": null,
   "metadata": {
    "collapsed": false
   },
   "outputs": [],
   "source": [
    "x = [\n",
    "    ans[0][nod_v_z, nod_v_y, nod_v_x],\n",
    "    ans[1][nod_v_z, nod_v_y, nod_v_x],\n",
    "    ans[2][nod_v_z, nod_v_y, nod_v_x]\n",
    "]\n",
    "x"
   ]
  },
  {
   "cell_type": "code",
   "execution_count": null,
   "metadata": {
    "collapsed": false
   },
   "outputs": [],
   "source": [
    "np.abs(x[2])**2/np.abs(x[0]) * 1.36587022**2"
   ]
  },
  {
   "cell_type": "code",
   "execution_count": null,
   "metadata": {
    "collapsed": false
   },
   "outputs": [],
   "source": [
    "np.abs(x[2])**2/np.abs(x[0]) * 1.8571076617500002**2"
   ]
  },
  {
   "cell_type": "code",
   "execution_count": null,
   "metadata": {
    "collapsed": false
   },
   "outputs": [],
   "source": [
    "enhance_3d[nod_v_z, nod_v_y, nod_v_x]"
   ]
  },
  {
   "cell_type": "code",
   "execution_count": null,
   "metadata": {
    "collapsed": false
   },
   "outputs": [],
   "source": [
    "image._image.shape"
   ]
  },
  {
   "cell_type": "code",
   "execution_count": null,
   "metadata": {
    "collapsed": true
   },
   "outputs": [],
   "source": []
  },
  {
   "cell_type": "code",
   "execution_count": null,
   "metadata": {
    "collapsed": true
   },
   "outputs": [],
   "source": [
    "file_list = luna_preprocess.get_file_list()\n",
    "file_dict = luna_preprocess.get_file_dict(file_list)\n",
    "annt_df = luna_preprocess.get_annt_df(file_dict)"
   ]
  },
  {
   "cell_type": "code",
   "execution_count": null,
   "metadata": {
    "collapsed": false
   },
   "outputs": [],
   "source": [
    "f = file_list[0]"
   ]
  },
  {
   "cell_type": "code",
   "execution_count": null,
   "metadata": {
    "collapsed": false
   },
   "outputs": [],
   "source": [
    "image = luna_preprocess.Image()\n",
    "image.load(luna_preprocess.get_file_id(f))"
   ]
  },
  {
   "cell_type": "code",
   "execution_count": null,
   "metadata": {
    "collapsed": false
   },
   "outputs": [],
   "source": [
    "nodules = image.get_v_nodules()\n",
    "nod_idx = 1\n",
    "nod_v_x, nod_v_y, nod_v_z, nod_v_d = nodules[nod_idx]"
   ]
  },
  {
   "cell_type": "code",
   "execution_count": null,
   "metadata": {
    "collapsed": false
   },
   "outputs": [],
   "source": [
    "image.masked_lung[nod_v_z].shape"
   ]
  },
  {
   "cell_type": "code",
   "execution_count": null,
   "metadata": {
    "collapsed": true
   },
   "outputs": [],
   "source": [
    "def pad_to_square(image):\n",
    "    h, w = image.shape\n",
    "    pad = abs(w - h) // 2\n",
    "    if h < w:\n",
    "        return np.pad(image, ((pad, w - h - pad), (0, 0)), 'edge')\n",
    "    return np.pad(image, ((0, 0), (pad, h - w - pad)), 'edge')"
   ]
  },
  {
   "cell_type": "code",
   "execution_count": null,
   "metadata": {
    "collapsed": false
   },
   "outputs": [],
   "source": [
    "slice_z = np.clip(nod_v_z + 1, 0, image._image.shape[0] - 1)\n",
    "\n",
    "final_image = image.masked_lung[slice_z]\n",
    "final_image = transform.resize(util.normalize(pad_to_square(final_image), 0.0), [512, 512])\n",
    "plt.figure()\n",
    "plt.imshow(final_image, cmap='gray')\n",
    "\n",
    "final_mask = image._nodule_masks[nod_idx][slice_z]\n",
    "final_mask = transform.resize(pad_to_square(final_mask), [512, 512])\n",
    "plt.figure()\n",
    "plt.imshow(final_mask, cmap='gray')\n",
    "\n",
    "plt.figure()\n",
    "x = final_image.copy()\n",
    "x[final_mask==0] = 0\n",
    "plt.imshow(x, cmap='gray')"
   ]
  },
  {
   "cell_type": "code",
   "execution_count": null,
   "metadata": {
    "collapsed": true
   },
   "outputs": [],
   "source": []
  },
  {
   "cell_type": "code",
   "execution_count": null,
   "metadata": {
    "collapsed": false
   },
   "outputs": [],
   "source": [
    "x = np.load('../LUNA16/output_unet_data/subset0.npz')\n",
    "images, nodule_masks = x['images'], x['nodule_masks']"
   ]
  },
  {
   "cell_type": "code",
   "execution_count": null,
   "metadata": {
    "collapsed": false
   },
   "outputs": [],
   "source": [
    "plt.figure()\n",
    "plt.imshow(images[3][0], cmap='gray')\n",
    "plt.figure()\n",
    "plt.imshow(nodule_masks[3][0], cmap='gray')"
   ]
  },
  {
   "cell_type": "code",
   "execution_count": null,
   "metadata": {
    "collapsed": true
   },
   "outputs": [],
   "source": []
  },
  {
   "cell_type": "code",
   "execution_count": null,
   "metadata": {
    "collapsed": true
   },
   "outputs": [],
   "source": [
    "x = np.load('../LUNA16/output_unet_data/subset0.npz')"
   ]
  },
  {
   "cell_type": "code",
   "execution_count": null,
   "metadata": {
    "collapsed": false
   },
   "outputs": [],
   "source": [
    "images, nodule_masks = x['images'], x['nodule_masks']\n"
   ]
  },
  {
   "cell_type": "code",
   "execution_count": null,
   "metadata": {
    "collapsed": false
   },
   "outputs": [],
   "source": [
    "plt.figure()\n",
    "plt.imshow(images[100][0], cmap='gray')\n",
    "plt.figure()\n",
    "plt.imshow(nodule_masks[100][0], cmap='gray')"
   ]
  },
  {
   "cell_type": "code",
   "execution_count": null,
   "metadata": {
    "collapsed": true
   },
   "outputs": [],
   "source": []
  },
  {
   "cell_type": "code",
   "execution_count": null,
   "metadata": {
    "collapsed": true
   },
   "outputs": [],
   "source": []
  },
  {
   "cell_type": "code",
   "execution_count": 2,
   "metadata": {
    "collapsed": false
   },
   "outputs": [
    {
     "name": "stderr",
     "output_type": "stream",
     "text": [
      "Using TensorFlow backend.\n"
     ]
    }
   ],
   "source": [
    "from keras import backend as K\n",
    "import tensorflow as tf\n",
    "import luna_train_unet"
   ]
  },
  {
   "cell_type": "code",
   "execution_count": 3,
   "metadata": {
    "collapsed": false
   },
   "outputs": [],
   "source": [
    "K.set_image_dim_ordering('th')"
   ]
  },
  {
   "cell_type": "code",
   "execution_count": 4,
   "metadata": {
    "collapsed": false
   },
   "outputs": [
    {
     "data": {
      "text/plain": [
       "'th'"
      ]
     },
     "execution_count": 4,
     "metadata": {},
     "output_type": "execute_result"
    }
   ],
   "source": [
    "K.image_dim_ordering()"
   ]
  },
  {
   "cell_type": "code",
   "execution_count": 5,
   "metadata": {
    "collapsed": true
   },
   "outputs": [],
   "source": [
    "with tf.device('/cpu:0'):\n",
    "    model = luna_train_unet.get_unet()\n",
    "    model.load_weights('./unet.hdf5')"
   ]
  },
  {
   "cell_type": "code",
   "execution_count": 6,
   "metadata": {
    "collapsed": false
   },
   "outputs": [],
   "source": [
    "imgs_train, imgs_mask_train = luna_train_unet.load_data(['subset0'])\n",
    "mean = np.mean(imgs_train)  # mean for data centering                                       \n",
    "std = np.std(imgs_train)  # std for data normalization   "
   ]
  },
  {
   "cell_type": "code",
   "execution_count": 7,
   "metadata": {
    "collapsed": false
   },
   "outputs": [],
   "source": [
    "data = np.load('../LUNA16/output_unet_data/subset6.npz')\n",
    "images, nodule_masks = data['images'], data['nodule_masks']\n",
    "images = (images - mean) / std\n",
    "#images = np.load('../LUNA16/tutorial/testImages.npy')\n",
    "#nodule_masks = np.load('../LUNA16/tutorial/testMasks.npy')"
   ]
  },
  {
   "cell_type": "code",
   "execution_count": 8,
   "metadata": {
    "collapsed": false
   },
   "outputs": [
    {
     "data": {
      "text/plain": [
       "((387, 1, 512, 512), (387, 1, 512, 512))"
      ]
     },
     "execution_count": 8,
     "metadata": {},
     "output_type": "execute_result"
    }
   ],
   "source": [
    "images.shape, nodule_masks.shape"
   ]
  },
  {
   "cell_type": "code",
   "execution_count": 9,
   "metadata": {
    "collapsed": false
   },
   "outputs": [
    {
     "data": {
      "text/plain": [
       "<matplotlib.image.AxesImage at 0x7f9fe4734690>"
      ]
     },
     "execution_count": 9,
     "metadata": {},
     "output_type": "execute_result"
    },
    {
     "data": {
      "image/png": "[encoded data removed]",
      "text/plain": [
       "<matplotlib.figure.Figure at 0x7f9fe4f61f90>"
      ]
     },
     "metadata": {},
     "output_type": "display_data"
    },
    {
     "data": {
      "image/png": "[encoded data removed]",
      "text/plain": [
       "<matplotlib.figure.Figure at 0x7f9fe47e1ed0>"
      ]
     },
     "metadata": {},
     "output_type": "display_data"
    }
   ],
   "source": [
    "sample_idx = 11\n",
    "plt.figure()\n",
    "plt.imshow(images[sample_idx][0], cmap='gray')\n",
    "plt.figure()\n",
    "plt.imshow(nodule_masks[sample_idx][0], cmap='gray')"
   ]
  },
  {
   "cell_type": "code",
   "execution_count": 10,
   "metadata": {
    "collapsed": false
   },
   "outputs": [
    {
     "name": "stdout",
     "output_type": "stream",
     "text": [
      "1/1 [==============================] - 3s\n"
     ]
    }
   ],
   "source": [
    "with tf.device('/cpu:0'):\n",
    "    p = model.predict(images[sample_idx:sample_idx+1], verbose=True)"
   ]
  },
  {
   "cell_type": "code",
   "execution_count": 16,
   "metadata": {
    "collapsed": false
   },
   "outputs": [
    {
     "data": {
      "text/plain": [
       "<matplotlib.image.AxesImage at 0x7f9fe3a6c6d0>"
      ]
     },
     "execution_count": 16,
     "metadata": {},
     "output_type": "execute_result"
    },
    {
     "data": {
      "image/png": "[encoded data removed]",
      "text/plain": [
       "<matplotlib.figure.Figure at 0x7f9fe4862d90>"
      ]
     },
     "metadata": {},
     "output_type": "display_data"
    },
    {
     "data": {
      "image/png": "[encoded data removed]",
      "text/plain": [
       "<matplotlib.figure.Figure at 0x7f9fe460d350>"
      ]
     },
     "metadata": {},
     "output_type": "display_data"
    }
   ],
   "source": [
    "plt.figure()\n",
    "plt.imshow(p[0][0]>np.mean(p[0][0]), cmap='gray')\n",
    "plt.figure()\n",
    "x = images[sample_idx][0].copy()\n",
    "x[~(p[0][0]>0)] = 0\n",
    "plt.imshow(x, cmap='gray')"
   ]
  },
  {
   "cell_type": "code",
   "execution_count": null,
   "metadata": {
    "collapsed": true
   },
   "outputs": [],
   "source": []
  },
  {
   "cell_type": "code",
   "execution_count": 135,
   "metadata": {
    "collapsed": false
   },
   "outputs": [
    {
     "data": {
      "text/plain": [
       "1.5099937e-09"
      ]
     },
     "execution_count": 135,
     "metadata": {},
     "output_type": "execute_result"
    }
   ],
   "source": [
    "np.mean(p)"
   ]
  },
  {
   "cell_type": "code",
   "execution_count": null,
   "metadata": {
    "collapsed": true
   },
   "outputs": [],
   "source": []
  }
 ],
 "metadata": {
  "kernelspec": {
   "display_name": "Python 2",
   "language": "python",
   "name": "python2"
  },
  "language_info": {
   "codemirror_mode": {
    "name": "ipython",
    "version": 2
   },
   "file_extension": ".py",
   "mimetype": "text/x-python",
   "name": "python",
   "nbconvert_exporter": "python",
   "pygments_lexer": "ipython2",
   "version": "2.7.6"
  }
 },
 "nbformat": 4,
 "nbformat_minor": 1
}
