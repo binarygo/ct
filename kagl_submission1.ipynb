{
 "cells": [
  {
   "cell_type": "code",
   "execution_count": 20,
   "metadata": {
    "collapsed": false
   },
   "outputs": [],
   "source": [
    "%matplotlib inline\n",
    "# %matplotlib notebook\n",
    "\n",
    "import os\n",
    "import sys\n",
    "import time\n",
    "import pickle\n",
    "import numpy as np\n",
    "import csv\n",
    "import pandas as pd\n",
    "from scipy import ndimage\n",
    "from skimage import measure\n",
    "from skimage import feature\n",
    "from matplotlib import pyplot as plt\n",
    "from mpl_toolkits.mplot3d import Axes3D\n",
    "import tensorflow as tf\n",
    "import xgboost as xgb\n",
    "\n",
    "from sklearn.cross_validation import StratifiedKFold as KFold\n",
    "from sklearn.model_selection import StratifiedKFold\n",
    "from sklearn.metrics import classification_report\n",
    "from sklearn.ensemble import RandomForestClassifier as RF\n",
    "from sklearn.svm import SVC\n",
    "from sklearn import preprocessing\n",
    "from sklearn.feature_selection import SelectKBest, chi2\n",
    "from sklearn.preprocessing import Normalizer\n",
    "\n",
    "import util\n",
    "import image_aug\n",
    "import luna_preprocess\n",
    "import kagl_preprocess\n",
    "import kagl_test_unet5\n",
    "import kagl_feature_util\n",
    "import kagl_feature_set1\n",
    "\n",
    "reload(util);\n",
    "reload(image_aug);\n",
    "reload(luna_preprocess);\n",
    "reload(kagl_preprocess);\n",
    "reload(kagl_test_unet5);\n",
    "reload(kagl_feature_util);\n",
    "reload(kagl_feature_set1);"
   ]
  },
  {
   "cell_type": "code",
   "execution_count": 21,
   "metadata": {
    "collapsed": true
   },
   "outputs": [],
   "source": [
    "def flatten_list(a):\n",
    "    ans = []\n",
    "    for x in a:\n",
    "        ans.extend(x)\n",
    "    return ans\n",
    "\n",
    "\n",
    "def plot_image_and_mask(image, mask):\n",
    "    plt.imshow(image, cmap='gray')\n",
    "    plt.imshow(mask, cmap='jet', alpha=0.5)\n",
    "\n",
    "    \n",
    "def plot_nodule(patient, nodule_idx, new_size=48):\n",
    "    p = patient\n",
    "    nodule = p._nodule_regions[nodule_idx]\n",
    "    print 'area =', nodule.area\n",
    "    print 'shape = ', nodule.filled_image.shape\n",
    "    t_image = p.nodule_local_image(nodule_idx, [new_size]*3)\n",
    "    t_mask = p.nodule_local_mask(nodule_idx, [new_size]*3)\n",
    "    z = new_size//2\n",
    "    plt.figure()\n",
    "    plt.imshow(t_image[z], cmap='gray')\n",
    "    plt.show()\n",
    "    plt.figure()\n",
    "    plot_image_and_mask(t_image[z], t_mask[z])\n",
    "    plt.show()\n",
    "    \n",
    "    \n",
    "def prepare_data(names, meta_patient, feature_set):\n",
    "    feature_np = []\n",
    "    label_np = []\n",
    "    for name in names:\n",
    "        label_np.append(meta_patient.labels[name])\n",
    "        feature_np.append(feature_set[name])\n",
    "    feature_np = np.asarray(feature_np, dtype=np.float)\n",
    "    label_np = np.asarray(label_np, dtype=np.float)\n",
    "    \n",
    "    try:\n",
    "        print 'feature.shape = ', feature_np.shape\n",
    "        print 'pos = %d, %f'%(\n",
    "            np.sum(label_np),\n",
    "            np.sum(label_np) * 1.0 / len(label_np))\n",
    "        print 'neg = %d, %f'%(\n",
    "            len(label_np) - np.sum(label_np),\n",
    "            1.0 - np.sum(label_np) * 1.0 / len(label_np))\n",
    "    except:\n",
    "        pass\n",
    "    \n",
    "    return feature_np, label_np"
   ]
  },
  {
   "cell_type": "code",
   "execution_count": 46,
   "metadata": {
    "collapsed": false
   },
   "outputs": [],
   "source": [
    "feature_names = [\n",
    "    'lung_volume',\n",
    "    'lung_mean_hu',\n",
    "    'lung_std_hu',\n",
    "    'lung_min_dz',\n",
    "    'lung_max_dz',\n",
    "    'lung_min_r',\n",
    "    'lung_max_r',\n",
    "    'lung_mean_r',\n",
    "    'lung_std_r',\n",
    "    'num_nodules',\n",
    "] + flatten_list([[\n",
    "        f + '_mean',\n",
    "        f + '_min',\n",
    "        f + '_max',\n",
    "        f + '_sum',\n",
    "        f + '_std',\n",
    "        f + '_skew',\n",
    "        f + '_kertosis'\n",
    "    ]\n",
    "    for f in [\n",
    "        'nodule_area',\n",
    "        'nodule_pos_z',\n",
    "        'nodule_pos_r',\n",
    "        'nodule_pos_br',\n",
    "        'nodule_mean_image',\n",
    "        'nodule_std_image',\n",
    "        'nodule_boundary_diff',\n",
    "        'nodule_convex_area',\n",
    "        'nodule_eccentricity',\n",
    "        'nodule_equivalent_diameter',\n",
    "        'nodule_major_axis_length',\n",
    "        'nodule_minor_axis_length',\n",
    "        'nodule_orientation',\n",
    "        'nodule_perimeter',\n",
    "        'nodule_solidity'\n",
    "    ]\n",
    "])\n",
    "\n",
    "feature_name_ids = dict(zip(feature_names, range(len(feature_names))))"
   ]
  },
  {
   "cell_type": "code",
   "execution_count": 40,
   "metadata": {
    "collapsed": false
   },
   "outputs": [
    {
     "name": "stdout",
     "output_type": "stream",
     "text": [
      "115\n"
     ]
    }
   ],
   "source": [
    "print len(feature_names)"
   ]
  },
  {
   "cell_type": "code",
   "execution_count": 33,
   "metadata": {
    "collapsed": false
   },
   "outputs": [
    {
     "name": "stdout",
     "output_type": "stream",
     "text": [
      "train = 1118\n",
      "valid = 279\n",
      "test = 198\n"
     ]
    }
   ],
   "source": [
    "stage = 'stage1'\n",
    "meta_patient = kagl_preprocess.MetaPatient(stage)\n",
    "\n",
    "train_names = []\n",
    "test_names = []\n",
    "for name, label in meta_patient.labels.iteritems():\n",
    "    if label is not None:\n",
    "        train_names.append(name)\n",
    "    else:\n",
    "        test_names.append(name)\n",
    "        \n",
    "train_names = np.random.permutation(train_names)\n",
    "num_valid_names = int(len(train_names) * 0.1)\n",
    "valid_names = train_names[0:num_valid_names]\n",
    "train_names = train_names[num_valid_names:]\n",
    "\n",
    "print 'train =', len(train_names)\n",
    "print 'valid =', len(valid_names)\n",
    "print 'test =', len(test_names)"
   ]
  },
  {
   "cell_type": "code",
   "execution_count": 34,
   "metadata": {
    "collapsed": false
   },
   "outputs": [
    {
     "name": "stdout",
     "output_type": "stream",
     "text": [
      "#pos = 280\n",
      "#neg = 838\n",
      "train = 1676\n"
     ]
    }
   ],
   "source": [
    "pos_train_names = []\n",
    "neg_train_names = []\n",
    "for name in train_names:\n",
    "    label = meta_patient.labels[name]\n",
    "    if label >= 0.5:\n",
    "        pos_train_names.append(name)\n",
    "    else:\n",
    "        neg_train_names.append(name)\n",
    "print '#pos =', len(pos_train_names)\n",
    "print '#neg =', len(neg_train_names)\n",
    "\n",
    "pos_train_names = list(np.random.choice(\n",
    "    pos_train_names, size=len(neg_train_names), replace=True))\n",
    "train_names = np.random.permutation(pos_train_names + neg_train_names)\n",
    "\n",
    "print 'train =', len(train_names)"
   ]
  },
  {
   "cell_type": "code",
   "execution_count": 35,
   "metadata": {
    "collapsed": false
   },
   "outputs": [
    {
     "name": "stdout",
     "output_type": "stream",
     "text": [
      "feature.shape =  (1676, 115)\n",
      "pos = 838, 0.500000\n",
      "neg = 838, 0.500000\n",
      "feature.shape =  (279, 115)\n",
      "pos = 82, 0.293907\n",
      "neg = 197, 0.706093\n",
      "feature.shape =  (198, 115)\n"
     ]
    }
   ],
   "source": [
    "feature_set = np.load('kagl_output_feature_set1.npy').item()\n",
    "\n",
    "train_feature_np, train_label_np = prepare_data(\n",
    "    train_names, meta_patient, feature_set)\n",
    "\n",
    "valid_feature_np, valid_label_np = prepare_data(\n",
    "    valid_names, meta_patient, feature_set)\n",
    "\n",
    "test_feature_np, _ = prepare_data(\n",
    "    test_names, meta_patient, feature_set)"
   ]
  },
  {
   "cell_type": "code",
   "execution_count": 36,
   "metadata": {
    "collapsed": false
   },
   "outputs": [],
   "source": [
    "x_train = train_feature_np\n",
    "y_train = train_label_np\n",
    "\n",
    "x_valid = valid_feature_np\n",
    "y_valid = valid_label_np\n",
    "\n",
    "x_test = test_feature_np"
   ]
  },
  {
   "cell_type": "code",
   "execution_count": 37,
   "metadata": {
    "collapsed": false
   },
   "outputs": [
    {
     "name": "stdout",
     "output_type": "stream",
     "text": [
      "logloss(train) = 0.0745810455981\n",
      "logloss(valid) = 0.543295201\n",
      "Random forest\n",
      "             precision    recall  f1-score   support\n",
      "\n",
      "  No Cancer       0.74      0.93      0.83       197\n",
      "     Cancer       0.59      0.23      0.33        82\n",
      "\n",
      "avg / total       0.70      0.73      0.68       279\n",
      "\n"
     ]
    }
   ],
   "source": [
    "clf_rf = RF(n_estimators=10000, criterion='entropy', max_depth=None,\n",
    "            n_jobs=1)\n",
    "clf_rf.fit(x_train, y_train)\n",
    "\n",
    "y_pred_train = clf_rf.predict_proba(x_train)[:,1]\n",
    "print 'logloss(train) =', kagl_feature_util.logloss(y_train, y_pred_train)\n",
    "\n",
    "y_pred_valid = clf_rf.predict_proba(x_valid)[:,1]\n",
    "print 'logloss(valid) =', kagl_feature_util.logloss(y_valid, y_pred_valid)\n",
    "\n",
    "print 'Random forest'\n",
    "print(classification_report(\n",
    "        y_valid, y_pred_valid >= 0.5, target_names=[\"No Cancer\", \"Cancer\"]))"
   ]
  },
  {
   "cell_type": "code",
   "execution_count": 19,
   "metadata": {
    "collapsed": false
   },
   "outputs": [
    {
     "name": "stdout",
     "output_type": "stream",
     "text": [
      "Write submission: Random forest\n",
      "Write lcad-rf-bal.csv\n"
     ]
    },
    {
     "data": {
      "text/plain": [
       "'lcad-rf-bal.csv'"
      ]
     },
     "execution_count": 19,
     "metadata": {},
     "output_type": "execute_result"
    }
   ],
   "source": [
    "print 'Write submission: Random forest'\n",
    "y_pred_test = clf_rf.predict_proba(x_test)[:,1]\n",
    "kagl_feature_util.write_submission_file(test_names, y_pred_test, 'rf-bal')"
   ]
  },
  {
   "cell_type": "code",
   "execution_count": 43,
   "metadata": {
    "collapsed": false
   },
   "outputs": [],
   "source": [
    "feature_imp = sorted(\n",
    "    zip(map(lambda x: round(x, 4), clf_rf.feature_importances_), feature_names), \n",
    "    reverse=True)"
   ]
  },
  {
   "cell_type": "code",
   "execution_count": 64,
   "metadata": {
    "collapsed": false
   },
   "outputs": [
    {
     "name": "stdout",
     "output_type": "stream",
     "text": [
      "14,12,10,54,89,13,91,15,1,23,2,26,28,59,22,75,32,77,61,16,17,25,82,103,63,114,42,19,68,56\n"
     ]
    }
   ],
   "source": [
    "t = [\n",
    "    feature_name_ids[feature_name]\n",
    "    for imp, feature_name in feature_imp[0:30]\n",
    "]\n",
    "print ','.join([str(i) for i in t])"
   ]
  },
  {
   "cell_type": "code",
   "execution_count": 58,
   "metadata": {
    "collapsed": false
   },
   "outputs": [
    {
     "data": {
      "text/plain": [
       "(1676, 20)"
      ]
     },
     "execution_count": 58,
     "metadata": {},
     "output_type": "execute_result"
    }
   ],
   "source": [
    "x_train[:,t].shape"
   ]
  },
  {
   "cell_type": "code",
   "execution_count": null,
   "metadata": {
    "collapsed": true
   },
   "outputs": [],
   "source": []
  }
 ],
 "metadata": {
  "kernelspec": {
   "display_name": "Python 2",
   "language": "python",
   "name": "python2"
  },
  "language_info": {
   "codemirror_mode": {
    "name": "ipython",
    "version": 2
   },
   "file_extension": ".py",
   "mimetype": "text/x-python",
   "name": "python",
   "nbconvert_exporter": "python",
   "pygments_lexer": "ipython2",
   "version": "2.7.6"
  }
 },
 "nbformat": 4,
 "nbformat_minor": 1
}
