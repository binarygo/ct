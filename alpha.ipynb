{
 "cells": [
  {
   "cell_type": "code",
   "execution_count": 8,
   "metadata": {
    "collapsed": false
   },
   "outputs": [],
   "source": [
    "%matplotlib inline\n",
    "\n",
    "import os\n",
    "import sys\n",
    "import time\n",
    "import ctypes\n",
    "import multiprocessing\n",
    "import warnings\n",
    "\n",
    "import dicom\n",
    "import csv\n",
    "import pickle\n",
    "import scipy\n",
    "import numpy as np\n",
    "import pandas as pd\n",
    "import tensorflow as tf\n",
    "\n",
    "from copy import deepcopy\n",
    "from collections import namedtuple\n",
    "from scipy.misc import imread\n",
    "from scipy import stats\n",
    "from scipy import ndimage\n",
    "from matplotlib import pyplot as plt"
   ]
  },
  {
   "cell_type": "code",
   "execution_count": 9,
   "metadata": {
    "collapsed": true
   },
   "outputs": [],
   "source": [
    "# Utility functions\n",
    "\n",
    "def save(**kwargs):\n",
    "    with open('save.dat', 'wb') as f:\n",
    "        pickle.dump(kwargs, f)\n",
    "\n",
    "\n",
    "def load():\n",
    "    with open('save.dat', 'rb') as f:\n",
    "        return pickle.load(f)"
   ]
  },
  {
   "cell_type": "markdown",
   "metadata": {},
   "source": [
    "## Read Basic Patient Data\n",
    "* Use '7z x stage1.7z' to uncompress data."
   ]
  },
  {
   "cell_type": "code",
   "execution_count": 20,
   "metadata": {
    "collapsed": false
   },
   "outputs": [],
   "source": [
    "_DATA_DIR = '../ct_data/sample_images'\n",
    "_LABELS_CSV = '../ct_data/stage1_labels.csv'\n",
    "_SAMPLE_CSV = '../ct_data/stage1_sample_submission.csv'\n",
    "\n",
    "\n",
    "def read_patient_labels(csv_fname):\n",
    "    with open(csv_fname) as f:\n",
    "        reader = csv.reader(f, delimiter=',')\n",
    "        reader.next()  # skip header\n",
    "        return dict([(r[0], float(r[1])) for r in reader if len(r) == 2])\n",
    "\n",
    "    \n",
    "def read_patient_data(patient_name):\n",
    "    d = os.path.join(_DATA_DIR, patient_name)\n",
    "    return [\n",
    "        dicom.read_file(os.path.join(d, f))\n",
    "        for f in os.listdir(d)\n",
    "    ]"
   ]
  },
  {
   "cell_type": "code",
   "execution_count": 11,
   "metadata": {
    "collapsed": false
   },
   "outputs": [],
   "source": [
    "patient_names = os.listdir(_DATA_DIR)\n",
    "patient_labels = read_patient_labels(_LABELS_CSV)\n",
    "test_patient_names = set(read_patient_labels(_SAMPLE_CSV).keys())"
   ]
  },
  {
   "cell_type": "markdown",
   "metadata": {},
   "source": [
    "## Preprocess Data"
   ]
  },
  {
   "cell_type": "code",
   "execution_count": null,
   "metadata": {
    "collapsed": true
   },
   "outputs": [],
   "source": []
  },
  {
   "cell_type": "markdown",
   "metadata": {},
   "source": [
    "## Lung Segmentation"
   ]
  },
  {
   "cell_type": "code",
   "execution_count": null,
   "metadata": {
    "collapsed": true
   },
   "outputs": [],
   "source": []
  }
 ],
 "metadata": {
  "kernelspec": {
   "display_name": "Python 2",
   "language": "python",
   "name": "python2"
  },
  "language_info": {
   "codemirror_mode": {
    "name": "ipython",
    "version": 2
   },
   "file_extension": ".py",
   "mimetype": "text/x-python",
   "name": "python",
   "nbconvert_exporter": "python",
   "pygments_lexer": "ipython2",
   "version": "2.7.6"
  }
 },
 "nbformat": 4,
 "nbformat_minor": 1
}
